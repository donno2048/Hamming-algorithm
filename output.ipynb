{
 "cells": [
  {
   "cell_type": "code",
   "execution_count": 1,
   "metadata": {},
   "outputs": [],
   "source": [
    "from math import log2;from functools import reduce"
   ]
  },
  {
   "cell_type": "code",
   "execution_count": 2,
   "metadata": {},
   "outputs": [],
   "source": [
    "def ham(x:list,PlaceHolder=0): #size of 2^n-n-1\n",
    "    new=[PlaceHolder];index=0\n",
    "    for i in range(1,len(x)+int.bit_length(len(x))+1):\n",
    "        if log2(i).is_integer():new+=[PlaceHolder]\n",
    "        else:new+=[x[index]];index+=1\n",
    "    return new\n",
    "def ham2(x:list,PlaceHolder=0,new=[0],index=0): #smaller version of ham\n",
    "    for i in range(1,len(x)+int.bit_length(len(x))+1):logic=log2(i).is_integer();new+=[PlaceHolder*logic+x[index]*(1-logic)];index+=1-logic\n",
    "    return new"
   ]
  },
  {
   "cell_type": "code",
   "execution_count": 3,
   "metadata": {},
   "outputs": [],
   "source": [
    "def encode(x:list):\n",
    "    for i in range(int.bit_length(len(x))-1):\n",
    "        if sum([sum(x[2**i+j::2**(i+1)]) for j in range(2**i)])%2==1:x[2**i]=1-x[2**i]\n",
    "    if sum(x)%2==1:x[0]=1-x[0]\n",
    "    return x\n",
    "def encode2(x:list): #smaller version of encode\n",
    "    for i in range(int.bit_length(len(x))-1):logic=(sum([sum(x[2**i+j::2**(i+1)]) for j in range(2**i)])%2==1);x[2**i]=(1-x[2**i])*logic+x[2**i]*(1-logic)\n",
    "    logic=sum(x)%2==1;x[0]=(1-x[0])*logic+x[0]*(1-logic);return x"
   ]
  },
  {
   "cell_type": "code",
   "execution_count": 4,
   "metadata": {},
   "outputs": [],
   "source": [
    "def decode(x:list):\n",
    "    index=0\n",
    "    for i in range(int.bit_length(len(x))-1):\n",
    "        if sum([sum(x[2**i+j::2**(i+1)]) for j in range(2**i)])%2==1:index+=2**i\n",
    "    if sum(x)%2==1:x[index]=1-x[index]\n",
    "    return x\n",
    "def decode2(x:list):index=reduce(lambda x,y:x^y,[i for i,logic in enumerate(x) if logic]);x[index]=1-x[index];return x #smaller version of decode"
   ]
  },
  {
   "cell_type": "code",
   "execution_count": 5,
   "metadata": {},
   "outputs": [],
   "source": [
    "PreHammedList=[1,0,1,0]"
   ]
  },
  {
   "cell_type": "code",
   "execution_count": 6,
   "metadata": {},
   "outputs": [
    {
     "name": "stdout",
     "output_type": "stream",
     "text": [
      "[0, 0, 0, 1, 0, 0, 1, 0]\n"
     ]
    }
   ],
   "source": [
    "print(ham(PreHammedList))"
   ]
  },
  {
   "cell_type": "code",
   "execution_count": 7,
   "metadata": {},
   "outputs": [],
   "source": [
    "InitialList=ham(PreHammedList)"
   ]
  },
  {
   "cell_type": "code",
   "execution_count": 8,
   "metadata": {},
   "outputs": [
    {
     "name": "stdout",
     "output_type": "stream",
     "text": [
      "[0, 1, 0, 1, 1, 0, 1, 0]\n"
     ]
    }
   ],
   "source": [
    "print(encode(InitialList))"
   ]
  },
  {
   "cell_type": "code",
   "execution_count": 9,
   "metadata": {},
   "outputs": [],
   "source": [
    "CorruptedList=encode(InitialList)"
   ]
  },
  {
   "cell_type": "code",
   "execution_count": 10,
   "metadata": {},
   "outputs": [],
   "source": [
    "CorruptedList[4]=1-CorruptedList[4]"
   ]
  },
  {
   "cell_type": "code",
   "execution_count": 11,
   "metadata": {},
   "outputs": [
    {
     "name": "stdout",
     "output_type": "stream",
     "text": [
      "[0, 1, 0, 1, 1, 0, 1, 0]\n"
     ]
    }
   ],
   "source": [
    "print(decode(CorruptedList))"
   ]
  }
 ],
 "metadata": {
  "kernelspec": {
   "display_name": "Python 3",
   "language": "python",
   "name": "python3"
  },
  "language_info": {
   "codemirror_mode": {
    "name": "ipython",
    "version": 3
   },
   "file_extension": ".py",
   "mimetype": "text/x-python",
   "name": "python",
   "nbconvert_exporter": "python",
   "pygments_lexer": "ipython3",
   "version": "3.8.5"
  }
 },
 "nbformat": 4,
 "nbformat_minor": 2
}
